{
  "nbformat": 4,
  "nbformat_minor": 0,
  "metadata": {
    "colab": {
      "provenance": [],
      "authorship_tag": "ABX9TyOLOLMcXCkRhr8iITfqFRy2",
      "include_colab_link": true
    },
    "kernelspec": {
      "name": "python3",
      "display_name": "Python 3"
    },
    "language_info": {
      "name": "python"
    }
  },
  "cells": [
    {
      "cell_type": "markdown",
      "metadata": {
        "id": "view-in-github",
        "colab_type": "text"
      },
      "source": [
        "<a href=\"https://colab.research.google.com/github/djetishi/BINA/blob/main/BINA.ipynb\" target=\"_parent\"><img src=\"https://colab.research.google.com/assets/colab-badge.svg\" alt=\"Open In Colab\"/></a>"
      ]
    },
    {
      "cell_type": "markdown",
      "source": [
        "This is just a test."
      ],
      "metadata": {
        "id": "5M_dVgqcJlHX"
      }
    },
    {
      "cell_type": "code",
      "source": [
        "print('Hello world')"
      ],
      "metadata": {
        "colab": {
          "base_uri": "https://localhost:8080/"
        },
        "id": "0ScahBMXJ-dj",
        "outputId": "f0474874-de10-4ac9-c33c-d8f76448ad4a"
      },
      "execution_count": 1,
      "outputs": [
        {
          "output_type": "stream",
          "name": "stdout",
          "text": [
            "Hello world\n"
          ]
        }
      ]
    },
    {
      "cell_type": "code",
      "source": [
        "a = 7\n",
        "b = 8\n",
        "c = a + b\n",
        "print(c)"
      ],
      "metadata": {
        "colab": {
          "base_uri": "https://localhost:8080/"
        },
        "id": "q5meu21kKsJT",
        "outputId": "2093f1f3-fce1-48b5-aa7a-b79719eaca0e"
      },
      "execution_count": 2,
      "outputs": [
        {
          "output_type": "stream",
          "name": "stdout",
          "text": [
            "15\n"
          ]
        }
      ]
    },
    {
      "cell_type": "code",
      "source": [
        "import pandas as pd\n",
        "\n",
        "suicide_rate_pdf = pd.read_csv(\"https://raw.githubusercontent.com/djetishi/BINA/main/Data/who_suicide_statistics.csv\")\n",
        "\n",
        "print(suicide_rate_pdf)"
      ],
      "metadata": {
        "id": "IITOz36iM5pl",
        "outputId": "64191bf7-6071-4536-b7fd-06bc34398cc6",
        "colab": {
          "base_uri": "https://localhost:8080/"
        }
      },
      "execution_count": 4,
      "outputs": [
        {
          "output_type": "stream",
          "name": "stdout",
          "text": [
            "        country  year     sex          age  suicides_no  population\n",
            "0       Albania  1985  female  15-24 years          NaN    277900.0\n",
            "1       Albania  1985  female  25-34 years          NaN    246800.0\n",
            "2       Albania  1985  female  35-54 years          NaN    267500.0\n",
            "3       Albania  1985  female   5-14 years          NaN    298300.0\n",
            "4       Albania  1985  female  55-74 years          NaN    138700.0\n",
            "...         ...   ...     ...          ...          ...         ...\n",
            "43771  Zimbabwe  1990    male  25-34 years        150.0         NaN\n",
            "43772  Zimbabwe  1990    male  35-54 years        132.0         NaN\n",
            "43773  Zimbabwe  1990    male   5-14 years          6.0         NaN\n",
            "43774  Zimbabwe  1990    male  55-74 years         74.0         NaN\n",
            "43775  Zimbabwe  1990    male    75+ years         13.0         NaN\n",
            "\n",
            "[43776 rows x 6 columns]\n"
          ]
        }
      ]
    }
  ]
}